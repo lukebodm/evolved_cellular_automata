{
 "cells": [
  {
   "cell_type": "markdown",
   "id": "d2366cf5-3f66-4130-808f-9ea305be6eb9",
   "metadata": {},
   "source": [
    "Modfiy the code below to look at old simulation objects you created, and their cellular automata. As is, the code will plot the best skyscraper solution I have found (after 5 hours)."
   ]
  },
  {
   "cell_type": "code",
   "execution_count": 2,
   "id": "7267fe1b-9155-402e-8ab7-9a25df36e8b9",
   "metadata": {},
   "outputs": [
    {
     "name": "stderr",
     "output_type": "stream",
     "text": [
      "Warning: Ignoring XDG_SESSION_TYPE=wayland on Gnome. Use QT_QPA_PLATFORM=wayland to run on Wayland anyway.\n"
     ]
    }
   ],
   "source": [
    "import pickle\n",
    "import evolving_ca as eca\n",
    "\n",
    "file_name = \"saved_sims/best_pyramid/ca_generation_29.pkl\"\n",
    "\n",
    "# Open the file for reading\n",
    "with open(file_name, 'rb') as f:\n",
    "    # Load the list of simulation object\n",
    "    loaded_sim = pickle.load(f)\n",
    "    \n",
    "# rank the CAs in the simulation based on fitness_score\n",
    "sorted_cas = sorted(loaded_sim.CAs, key=lambda x: x.fitness_score, reverse=True)\n",
    "\n",
    "# get the fittest CA\n",
    "fitest_CA = sorted_cas[0]\n",
    "\n",
    "# plot the fitest CA\n",
    "%matplotlib qt\n",
    "eca.plot_ca(fitest_CA)"
   ]
  },
  {
   "cell_type": "code",
   "execution_count": null,
   "id": "23ebfc3c-d876-48aa-80d7-0d0969dd29df",
   "metadata": {},
   "outputs": [],
   "source": []
  }
 ],
 "metadata": {
  "kernelspec": {
   "display_name": "Python 3 (ipykernel)",
   "language": "python",
   "name": "python3"
  },
  "language_info": {
   "codemirror_mode": {
    "name": "ipython",
    "version": 3
   },
   "file_extension": ".py",
   "mimetype": "text/x-python",
   "name": "python",
   "nbconvert_exporter": "python",
   "pygments_lexer": "ipython3",
   "version": "3.11.2"
  }
 },
 "nbformat": 4,
 "nbformat_minor": 5
}
