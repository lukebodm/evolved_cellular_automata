{
 "cells": [
  {
   "cell_type": "markdown",
   "id": "271f7afb-663e-4da8-8bb5-54d6c8de48a3",
   "metadata": {},
   "source": [
    "# Example notebook for nail (skyscraper) solution\n",
    "First import the evolving_ca.py classes and methods"
   ]
  },
  {
   "cell_type": "code",
   "execution_count": null,
   "id": "3bcc7163-01b1-4648-b24a-623053c3c733",
   "metadata": {},
   "outputs": [],
   "source": [
    "import evolving_ca as eca"
   ]
  },
  {
   "cell_type": "markdown",
   "id": "ee746cce-ff54-445c-a1dd-55b7a8d867b3",
   "metadata": {},
   "source": [
    "Let's plot the solution grid. I used to call this nail instead of skyscraper, and I haven't updated the code."
   ]
  },
  {
   "cell_type": "code",
   "execution_count": null,
   "id": "4bc04d6c-ed86-4e37-a175-e3df6fd58205",
   "metadata": {},
   "outputs": [],
   "source": [
    "%matplotlib qt\n",
    "nail_solution_grids = eca.nail_solution_grids()\n",
    "eca.plot_solution_grid(nail_solution_grids)"
   ]
  },
  {
   "cell_type": "markdown",
   "id": "da41d3d2-bb60-47ea-89a9-11970cacf67a",
   "metadata": {},
   "source": [
    "Now let's find our own! These are the parameters I used to find a 96.3% match in 5 hours. Running this will create a folder whose name is the time stamp when the code was run, inside a directory called, ```saved_sims```. This directory will contain the ```Simulation``` object from the latest generation. You can access them later at any time using pythons ```pickle``` module like so:\n",
    "\n",
    "```\n",
    "import pickle\n",
    "import evolving_ca as eca\n",
    "\n",
    "# Open the file for reading\n",
    "with open('saved_sims/2023-04-30_22-52-02/simulation.pkl', 'rb') as f:\n",
    "    # Load the list of simulation object\n",
    "    loaded_sim = pickle.load(f)\n",
    "    \n",
    "# rank the CAs in the simulation based on fitness_score\n",
    "sorted_cas = sorted(loaded_sim.CAs, key=lambda x: x.fitness_score, reverse=True)\n",
    "\n",
    "# get the fittest CA\n",
    "fitest_CA = sorted_cas[0]\n",
    "\n",
    "# plot the fitest CA\n",
    "%matplotlib qt\n",
    "eca.plot_ca(fitest_CA)\n",
    "\n",
    "\n",
    "```"
   ]
  },
  {
   "cell_type": "code",
   "execution_count": null,
   "id": "06d54245-450e-48e5-a7ee-bd178a43576d",
   "metadata": {},
   "outputs": [],
   "source": [
    "solution_grids = eca.nail_solution_grids()\n",
    "\n",
    "sim = eca.Simulation(solution_grids)\n",
    "\n",
    "sim.pop_size = 100\n",
    "sim.target_fitness = 1\n",
    "sim.elite_percentage = 0.02\n",
    "sim.reproducers_percentage = 0.5\n",
    "sim.mutation_rate = 0.02\n",
    "\n",
    "sim.run()"
   ]
  },
  {
   "cell_type": "code",
   "execution_count": null,
   "id": "a6d13c8c-a70a-45e8-ae0b-4ba10e913840",
   "metadata": {},
   "outputs": [],
   "source": []
  }
 ],
 "metadata": {
  "kernelspec": {
   "display_name": "Python 3 (ipykernel)",
   "language": "python",
   "name": "python3"
  },
  "language_info": {
   "codemirror_mode": {
    "name": "ipython",
    "version": 3
   },
   "file_extension": ".py",
   "mimetype": "text/x-python",
   "name": "python",
   "nbconvert_exporter": "python",
   "pygments_lexer": "ipython3",
   "version": "3.11.3"
  }
 },
 "nbformat": 4,
 "nbformat_minor": 5
}
