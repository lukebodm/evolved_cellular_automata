{
 "cells": [
  {
   "cell_type": "markdown",
   "id": "26f6938a-63bf-43e6-94d4-eb703eb8a1ac",
   "metadata": {},
   "source": [
    "# Example notebook for pyramid solution\n",
    "First import the evolving_ca.py classes and methods"
   ]
  },
  {
   "cell_type": "code",
   "execution_count": null,
   "id": "fe5c9e4f-5c80-4750-85b6-22b1e4a2343f",
   "metadata": {},
   "outputs": [],
   "source": [
    "import evolving_ca as eca"
   ]
  },
  {
   "cell_type": "markdown",
   "id": "af3579f3-ede6-4e83-b334-c11370b087f6",
   "metadata": {},
   "source": [
    "Let's plot the solution grid to see what it looks like."
   ]
  },
  {
   "cell_type": "code",
   "execution_count": null,
   "id": "27c2ff04-04e1-481a-8332-42dbb9a21767",
   "metadata": {},
   "outputs": [],
   "source": [
    "%matplotlib qt\n",
    "pyramid_solution_grids = eca.pyramid_solution_grids()\n",
    "eca.plot_solution_grid(pyramid_solution_grids)"
   ]
  },
  {
   "cell_type": "markdown",
   "id": "9eebb967-2b37-4a6f-94f3-dda632349745",
   "metadata": {},
   "source": [
    "Now lets run our own solutions. This should get a perfect match in about 10-15 generations. Takes less than 20 seconds on my hardware. Running this will create a folder whose name is the time stamp when the code was run, inside a directory called, ```saved_sims```. This directory will contain the ```Simulation``` object from the latest generation. You can access them later at any time using pythons ```pickle``` module like so:\n",
    "\n",
    "```\n",
    "import pickle\n",
    "import evolving_ca as eca\n",
    "\n",
    "# Open the file for reading\n",
    "with open('saved_sims/2023-04-30_22-52-02/simulation.pkl', 'rb') as f:\n",
    "    # Load the list of simulation object\n",
    "    loaded_sim = pickle.load(f)\n",
    "    \n",
    "# rank the CAs in the simulation based on fitness_score\n",
    "sorted_cas = sorted(loaded_sim.CAs, key=lambda x: x.fitness_score, reverse=True)\n",
    "\n",
    "# get the fittest CA\n",
    "fitest_CA = sorted_cas[0]\n",
    "\n",
    "# plot the fitest CA\n",
    "%matplotlib qt\n",
    "eca.plot_ca(fitest_CA)\n",
    "\n",
    "\n",
    "```"
   ]
  },
  {
   "cell_type": "code",
   "execution_count": null,
   "id": "f9496345-7a63-47f3-addd-6e51f592abf1",
   "metadata": {
    "tags": []
   },
   "outputs": [],
   "source": [
    "solution_grids = eca.pyramid_solution_grids()\n",
    "\n",
    "sim = eca.Simulation(solution_grids)\n",
    "\n",
    "sim.pop_size = 100\n",
    "sim.target_fitness = 1\n",
    "sim.elite_percentage = 0.02\n",
    "sim.reproducers_percentage = 0.5\n",
    "sim.mutation_rate = 0.02\n",
    "\n",
    "sim.run()"
   ]
  },
  {
   "cell_type": "code",
   "execution_count": null,
   "id": "5bed29c6-e734-44bf-be08-7e686296c3ea",
   "metadata": {},
   "outputs": [],
   "source": []
  }
 ],
 "metadata": {
  "kernelspec": {
   "display_name": "Python 3 (ipykernel)",
   "language": "python",
   "name": "python3"
  },
  "language_info": {
   "codemirror_mode": {
    "name": "ipython",
    "version": 3
   },
   "file_extension": ".py",
   "mimetype": "text/x-python",
   "name": "python",
   "nbconvert_exporter": "python",
   "pygments_lexer": "ipython3",
   "version": "3.11.3"
  }
 },
 "nbformat": 4,
 "nbformat_minor": 5
}
