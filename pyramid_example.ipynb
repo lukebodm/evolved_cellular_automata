{
 "cells": [
  {
   "cell_type": "markdown",
   "id": "26f6938a-63bf-43e6-94d4-eb703eb8a1ac",
   "metadata": {},
   "source": [
    "# Example notebook for pyramid solution\n",
    "First import the evolving_ca.py classes and methods"
   ]
  },
  {
   "cell_type": "code",
   "execution_count": null,
   "id": "fe5c9e4f-5c80-4750-85b6-22b1e4a2343f",
   "metadata": {},
   "outputs": [],
   "source": [
    "import evolving_ca as eca"
   ]
  },
  {
   "cell_type": "markdown",
   "id": "af3579f3-ede6-4e83-b334-c11370b087f6",
   "metadata": {},
   "source": [
    "Let's plot the solution grid to see what it looks like."
   ]
  },
  {
   "cell_type": "code",
   "execution_count": null,
   "id": "27c2ff04-04e1-481a-8332-42dbb9a21767",
   "metadata": {},
   "outputs": [],
   "source": [
    "%matplotlib qt\n",
    "pyramid_solution_grids = eca.pyramid_solution_grids()\n",
    "eca.plot_solution_grid(pyramid_solution_grids)"
   ]
  },
  {
   "cell_type": "markdown",
   "id": "9eebb967-2b37-4a6f-94f3-dda632349745",
   "metadata": {},
   "source": [
    "Now lets run our own solutions. This should get a perfect match in about 10-15 generations. Takes less than 20 seconds on my hardware. Running this will create a folder whose name is the time stamp when the code was run, inside a directory called, ```saved_sims```. This directory will have all the cellular automata saved from each generation. You can access them later at any time using pythons ```pickle``` module like so:\n",
    "\n",
    "```\n",
    "import pickle\n",
    "import evolving_ca as eca\n",
    "\n",
    "# Open the file for reading\n",
    "with open('2023-04-30_22-52-02/ca_generation_1.pkl', 'rb') as f:\n",
    "    # Load the list of simulation object\n",
    "    loaded_sim = pickle.load(f)\n",
    "    \n",
    "# rank the CAs in the simulation based on fitness_score\n",
    "sorted_cas = sorted(loaded_sim.CAs, key=lambda x: x.fitness_score, reverse=True)\n",
    "\n",
    "# get the fittest CA\n",
    "fitest_CA = sorted_cas[0]\n",
    "\n",
    "# plot the fitest CA\n",
    "%matplotlib qt\n",
    "eca.plot_ca(fitest_CA)\n",
    "\n",
    "```"
   ]
  },
  {
   "cell_type": "code",
   "execution_count": null,
   "id": "d5b77983-a475-4e01-9b2e-17b7c4a9d4b7",
   "metadata": {},
   "outputs": [],
   "source": [
    "solution_grids = pyramid_solution_grids\n",
    "pop_size = 75\n",
    "target_fitness = 4\n",
    "elite_percentage = 0.02\n",
    "reproducers_percentage = 0.5\n",
    "mutation_rate = 0.02\n",
    "\n",
    "sim = eca.Simulation(solution_grids, \n",
    "                     pop_size, \n",
    "                     target_fitness, \n",
    "                     elite_percentage, \n",
    "                     reproducers_percentage, \n",
    "                     mutation_rate)"
   ]
  },
  {
   "cell_type": "code",
   "execution_count": null,
   "id": "00a7899a-52b0-4d31-88b2-c8c22bcf34ef",
   "metadata": {},
   "outputs": [],
   "source": [
    "sim.run()"
   ]
  },
  {
   "cell_type": "code",
   "execution_count": null,
   "id": "f9496345-7a63-47f3-addd-6e51f592abf1",
   "metadata": {},
   "outputs": [],
   "source": []
  }
 ],
 "metadata": {
  "kernelspec": {
   "display_name": "Python 3 (ipykernel)",
   "language": "python",
   "name": "python3"
  },
  "language_info": {
   "codemirror_mode": {
    "name": "ipython",
    "version": 3
   },
   "file_extension": ".py",
   "mimetype": "text/x-python",
   "name": "python",
   "nbconvert_exporter": "python",
   "pygments_lexer": "ipython3",
   "version": "3.11.2"
  }
 },
 "nbformat": 4,
 "nbformat_minor": 5
}
